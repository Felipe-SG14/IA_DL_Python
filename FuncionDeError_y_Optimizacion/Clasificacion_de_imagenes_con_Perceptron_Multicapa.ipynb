{
 "cells": [
  {
   "cell_type": "markdown",
   "metadata": {},
   "source": [
    "# Perceptrón Multicapa: Caso práctico II"
   ]
  },
  {
   "cell_type": "markdown",
   "metadata": {},
   "source": [
    "## Dataset"
   ]
  },
  {
   "cell_type": "markdown",
   "metadata": {},
   "source": [
    "La base de datos del MNIST (base de datos modificada del Instituto Nacional de Normas y Tecnología) es una gran base de datos de dígitos manuscritos que se utiliza comúnmente para la capacitación de diversos sistemas de procesamiento de imágenes. La base de datos también se utiliza ampliamente para la capacitación y el ensayo en el campo del aprendizaje automático. Se creó \"remezclando\" las muestras de los conjuntos de datos originales del NIST. Los creadores consideraron que, dado que el conjunto de datos de capacitación del NIST fue tomado de los empleados de la Oficina del Censo de los Estados Unidos, mientras que el conjunto de datos de prueba fue tomado de los estudiantes de secundaria de los Estados Unidos, no era muy adecuado para los experimentos de aprendizaje automático. Además, las imágenes en blanco y negro del NIST fueron normalizadas para que encajaran en un cuadro delimitador de 28x28 píxeles, lo que introdujo niveles de escala de grises.\n",
    "\n",
    "La base de datos del MNIST contiene 60.000 imágenes de entrenamiento y 10.000 imágenes de prueba. La mitad del conjunto de entrenamiento y la otra mitad del conjunto de pruebas se tomaron del conjunto de datos de entrenamiento del NIST, mientras que la otra mitad del conjunto de entrenamiento y la otra mitad del conjunto de pruebas se tomaron del conjunto de datos de pruebas del NIST.Los creadores originales de la base de datos mantienen una lista de algunos de los métodos probados en ella. En su papel original, utilizan una máquina de soporte vectorial para obtener una tasa de error del 0,8%. En 2017 se ha publicado un conjunto de datos ampliado similar al MNIST llamado EMNIST, que contiene 240.000 imágenes de entrenamiento y 40.000 imágenes de prueba de dígitos y caracteres escritos a mano."
   ]
  },
  {
   "cell_type": "markdown",
   "metadata": {},
   "source": [
    "## Enunciado"
   ]
  },
  {
   "cell_type": "markdown",
   "metadata": {},
   "source": [
    "En este caso de uso práctico vamos a recuperar el ejercicio de clasificación de imágenes que realizamos en el apartado anterior para intentar mejorarlo aplicando un Perceptrón Multicapa."
   ]
  },
  {
   "cell_type": "markdown",
   "metadata": {},
   "source": [
    "## 1. Lectura del conjunto de datos"
   ]
  },
  {
   "cell_type": "code",
   "execution_count": 1,
   "metadata": {},
   "outputs": [],
   "source": [
    "# Importamos el conjunto de datos\n",
    "from sklearn.datasets import fetch_openml\n",
    "\n",
    "mnist = fetch_openml('mnist_784')"
   ]
  },
  {
   "cell_type": "code",
   "execution_count": 2,
   "metadata": {},
   "outputs": [
    {
     "data": {
      "text/html": [
       "<div>\n",
       "<style scoped>\n",
       "    .dataframe tbody tr th:only-of-type {\n",
       "        vertical-align: middle;\n",
       "    }\n",
       "\n",
       "    .dataframe tbody tr th {\n",
       "        vertical-align: top;\n",
       "    }\n",
       "\n",
       "    .dataframe thead th {\n",
       "        text-align: right;\n",
       "    }\n",
       "</style>\n",
       "<table border=\"1\" class=\"dataframe\">\n",
       "  <thead>\n",
       "    <tr style=\"text-align: right;\">\n",
       "      <th></th>\n",
       "      <th>pixel1</th>\n",
       "      <th>pixel2</th>\n",
       "      <th>pixel3</th>\n",
       "      <th>pixel4</th>\n",
       "      <th>pixel5</th>\n",
       "      <th>pixel6</th>\n",
       "      <th>pixel7</th>\n",
       "      <th>pixel8</th>\n",
       "      <th>pixel9</th>\n",
       "      <th>pixel10</th>\n",
       "      <th>...</th>\n",
       "      <th>pixel775</th>\n",
       "      <th>pixel776</th>\n",
       "      <th>pixel777</th>\n",
       "      <th>pixel778</th>\n",
       "      <th>pixel779</th>\n",
       "      <th>pixel780</th>\n",
       "      <th>pixel781</th>\n",
       "      <th>pixel782</th>\n",
       "      <th>pixel783</th>\n",
       "      <th>pixel784</th>\n",
       "    </tr>\n",
       "  </thead>\n",
       "  <tbody>\n",
       "    <tr>\n",
       "      <th>0</th>\n",
       "      <td>0.0</td>\n",
       "      <td>0.0</td>\n",
       "      <td>0.0</td>\n",
       "      <td>0.0</td>\n",
       "      <td>0.0</td>\n",
       "      <td>0.0</td>\n",
       "      <td>0.0</td>\n",
       "      <td>0.0</td>\n",
       "      <td>0.0</td>\n",
       "      <td>0.0</td>\n",
       "      <td>...</td>\n",
       "      <td>0.0</td>\n",
       "      <td>0.0</td>\n",
       "      <td>0.0</td>\n",
       "      <td>0.0</td>\n",
       "      <td>0.0</td>\n",
       "      <td>0.0</td>\n",
       "      <td>0.0</td>\n",
       "      <td>0.0</td>\n",
       "      <td>0.0</td>\n",
       "      <td>0.0</td>\n",
       "    </tr>\n",
       "    <tr>\n",
       "      <th>1</th>\n",
       "      <td>0.0</td>\n",
       "      <td>0.0</td>\n",
       "      <td>0.0</td>\n",
       "      <td>0.0</td>\n",
       "      <td>0.0</td>\n",
       "      <td>0.0</td>\n",
       "      <td>0.0</td>\n",
       "      <td>0.0</td>\n",
       "      <td>0.0</td>\n",
       "      <td>0.0</td>\n",
       "      <td>...</td>\n",
       "      <td>0.0</td>\n",
       "      <td>0.0</td>\n",
       "      <td>0.0</td>\n",
       "      <td>0.0</td>\n",
       "      <td>0.0</td>\n",
       "      <td>0.0</td>\n",
       "      <td>0.0</td>\n",
       "      <td>0.0</td>\n",
       "      <td>0.0</td>\n",
       "      <td>0.0</td>\n",
       "    </tr>\n",
       "    <tr>\n",
       "      <th>2</th>\n",
       "      <td>0.0</td>\n",
       "      <td>0.0</td>\n",
       "      <td>0.0</td>\n",
       "      <td>0.0</td>\n",
       "      <td>0.0</td>\n",
       "      <td>0.0</td>\n",
       "      <td>0.0</td>\n",
       "      <td>0.0</td>\n",
       "      <td>0.0</td>\n",
       "      <td>0.0</td>\n",
       "      <td>...</td>\n",
       "      <td>0.0</td>\n",
       "      <td>0.0</td>\n",
       "      <td>0.0</td>\n",
       "      <td>0.0</td>\n",
       "      <td>0.0</td>\n",
       "      <td>0.0</td>\n",
       "      <td>0.0</td>\n",
       "      <td>0.0</td>\n",
       "      <td>0.0</td>\n",
       "      <td>0.0</td>\n",
       "    </tr>\n",
       "    <tr>\n",
       "      <th>3</th>\n",
       "      <td>0.0</td>\n",
       "      <td>0.0</td>\n",
       "      <td>0.0</td>\n",
       "      <td>0.0</td>\n",
       "      <td>0.0</td>\n",
       "      <td>0.0</td>\n",
       "      <td>0.0</td>\n",
       "      <td>0.0</td>\n",
       "      <td>0.0</td>\n",
       "      <td>0.0</td>\n",
       "      <td>...</td>\n",
       "      <td>0.0</td>\n",
       "      <td>0.0</td>\n",
       "      <td>0.0</td>\n",
       "      <td>0.0</td>\n",
       "      <td>0.0</td>\n",
       "      <td>0.0</td>\n",
       "      <td>0.0</td>\n",
       "      <td>0.0</td>\n",
       "      <td>0.0</td>\n",
       "      <td>0.0</td>\n",
       "    </tr>\n",
       "    <tr>\n",
       "      <th>4</th>\n",
       "      <td>0.0</td>\n",
       "      <td>0.0</td>\n",
       "      <td>0.0</td>\n",
       "      <td>0.0</td>\n",
       "      <td>0.0</td>\n",
       "      <td>0.0</td>\n",
       "      <td>0.0</td>\n",
       "      <td>0.0</td>\n",
       "      <td>0.0</td>\n",
       "      <td>0.0</td>\n",
       "      <td>...</td>\n",
       "      <td>0.0</td>\n",
       "      <td>0.0</td>\n",
       "      <td>0.0</td>\n",
       "      <td>0.0</td>\n",
       "      <td>0.0</td>\n",
       "      <td>0.0</td>\n",
       "      <td>0.0</td>\n",
       "      <td>0.0</td>\n",
       "      <td>0.0</td>\n",
       "      <td>0.0</td>\n",
       "    </tr>\n",
       "  </tbody>\n",
       "</table>\n",
       "<p>5 rows × 784 columns</p>\n",
       "</div>"
      ],
      "text/plain": [
       "   pixel1  pixel2  pixel3  pixel4  pixel5  pixel6  pixel7  pixel8  pixel9  \\\n",
       "0     0.0     0.0     0.0     0.0     0.0     0.0     0.0     0.0     0.0   \n",
       "1     0.0     0.0     0.0     0.0     0.0     0.0     0.0     0.0     0.0   \n",
       "2     0.0     0.0     0.0     0.0     0.0     0.0     0.0     0.0     0.0   \n",
       "3     0.0     0.0     0.0     0.0     0.0     0.0     0.0     0.0     0.0   \n",
       "4     0.0     0.0     0.0     0.0     0.0     0.0     0.0     0.0     0.0   \n",
       "\n",
       "   pixel10  ...  pixel775  pixel776  pixel777  pixel778  pixel779  pixel780  \\\n",
       "0      0.0  ...       0.0       0.0       0.0       0.0       0.0       0.0   \n",
       "1      0.0  ...       0.0       0.0       0.0       0.0       0.0       0.0   \n",
       "2      0.0  ...       0.0       0.0       0.0       0.0       0.0       0.0   \n",
       "3      0.0  ...       0.0       0.0       0.0       0.0       0.0       0.0   \n",
       "4      0.0  ...       0.0       0.0       0.0       0.0       0.0       0.0   \n",
       "\n",
       "   pixel781  pixel782  pixel783  pixel784  \n",
       "0       0.0       0.0       0.0       0.0  \n",
       "1       0.0       0.0       0.0       0.0  \n",
       "2       0.0       0.0       0.0       0.0  \n",
       "3       0.0       0.0       0.0       0.0  \n",
       "4       0.0       0.0       0.0       0.0  \n",
       "\n",
       "[5 rows x 784 columns]"
      ]
     },
     "execution_count": 2,
     "metadata": {},
     "output_type": "execute_result"
    }
   ],
   "source": [
    "# Conviertiendo el conjunto de datos en un DataFrame de Pandas\n",
    "import pandas as pd\n",
    "\n",
    "df = pd.DataFrame(mnist.data)\n",
    "df.head(5)"
   ]
  },
  {
   "cell_type": "markdown",
   "metadata": {},
   "source": [
    "## 2. Visualización del conjunto de datos"
   ]
  },
  {
   "cell_type": "code",
   "execution_count": 3,
   "metadata": {},
   "outputs": [
    {
     "data": {
      "image/png": "[encoded data removed]",
      "text/plain": [
       "<Figure size 1440x288 with 8 Axes>"
      ]
     },
     "metadata": {
      "needs_background": "light"
     },
     "output_type": "display_data"
    }
   ],
   "source": [
    "import numpy as np\n",
    "import matplotlib.pyplot as plt\n",
    "\n",
    "plt.figure(figsize=(20, 4))\n",
    "\n",
    "for index, digit in zip(range(1, 9), mnist.data.loc[:8].to_numpy()):\n",
    "    plt.subplot(1, 8, index)\n",
    "    plt.imshow(np.reshape(digit, (28,28)), cmap=plt.cm.gray)\n",
    "    plt.title('Ejemplo: ' + str(index))\n",
    "plt.show()"
   ]
  },
  {
   "cell_type": "markdown",
   "metadata": {},
   "source": [
    "## 3. División del conjunto de datos"
   ]
  },
  {
   "cell_type": "code",
   "execution_count": 4,
   "metadata": {},
   "outputs": [],
   "source": [
    "from sklearn.model_selection import train_test_split\n",
    "\n",
    "X_train, X_test, y_train, y_test = train_test_split(mnist.data, mnist.target, test_size=0.15)"
   ]
  },
  {
   "cell_type": "code",
   "execution_count": 5,
   "metadata": {},
   "outputs": [
    {
     "name": "stdout",
     "output_type": "stream",
     "text": [
      "59500\n",
      "10500\n"
     ]
    }
   ],
   "source": [
    "print(len(X_train))\n",
    "print(len(X_test))"
   ]
  },
  {
   "cell_type": "markdown",
   "metadata": {},
   "source": [
    "## 4. Entrenamiento del algoritmo"
   ]
  },
  {
   "cell_type": "code",
   "execution_count": 6,
   "metadata": {},
   "outputs": [
    {
     "name": "stderr",
     "output_type": "stream",
     "text": [
      "c:\\Users\\felip\\AppData\\Local\\Programs\\Python\\Python310\\lib\\site-packages\\sklearn\\neural_network\\_multilayer_perceptron.py:702: ConvergenceWarning: Stochastic Optimizer: Maximum iterations (200) reached and the optimization hasn't converged yet.\n",
      "  warnings.warn(\n"
     ]
    },
    {
     "data": {
      "text/html": [
       "<style>#sk-container-id-1 {color: black;background-color: white;}#sk-container-id-1 pre{padding: 0;}#sk-container-id-1 div.sk-toggleable {background-color: white;}#sk-container-id-1 label.sk-toggleable__label {cursor: pointer;display: block;width: 100%;margin-bottom: 0;padding: 0.3em;box-sizing: border-box;text-align: center;}#sk-container-id-1 label.sk-toggleable__label-arrow:before {content: \"▸\";float: left;margin-right: 0.25em;color: #696969;}#sk-container-id-1 label.sk-toggleable__label-arrow:hover:before {color: black;}#sk-container-id-1 div.sk-estimator:hover label.sk-toggleable__label-arrow:before {color: black;}#sk-container-id-1 div.sk-toggleable__content {max-height: 0;max-width: 0;overflow: hidden;text-align: left;background-color: #f0f8ff;}#sk-container-id-1 div.sk-toggleable__content pre {margin: 0.2em;color: black;border-radius: 0.25em;background-color: #f0f8ff;}#sk-container-id-1 input.sk-toggleable__control:checked~div.sk-toggleable__content {max-height: 200px;max-width: 100%;overflow: auto;}#sk-container-id-1 input.sk-toggleable__control:checked~label.sk-toggleable__label-arrow:before {content: \"▾\";}#sk-container-id-1 div.sk-estimator input.sk-toggleable__control:checked~label.sk-toggleable__label {background-color: #d4ebff;}#sk-container-id-1 div.sk-label input.sk-toggleable__control:checked~label.sk-toggleable__label {background-color: #d4ebff;}#sk-container-id-1 input.sk-hidden--visually {border: 0;clip: rect(1px 1px 1px 1px);clip: rect(1px, 1px, 1px, 1px);height: 1px;margin: -1px;overflow: hidden;padding: 0;position: absolute;width: 1px;}#sk-container-id-1 div.sk-estimator {font-family: monospace;background-color: #f0f8ff;border: 1px dotted black;border-radius: 0.25em;box-sizing: border-box;margin-bottom: 0.5em;}#sk-container-id-1 div.sk-estimator:hover {background-color: #d4ebff;}#sk-container-id-1 div.sk-parallel-item::after {content: \"\";width: 100%;border-bottom: 1px solid gray;flex-grow: 1;}#sk-container-id-1 div.sk-label:hover label.sk-toggleable__label {background-color: #d4ebff;}#sk-container-id-1 div.sk-serial::before {content: \"\";position: absolute;border-left: 1px solid gray;box-sizing: border-box;top: 0;bottom: 0;left: 50%;z-index: 0;}#sk-container-id-1 div.sk-serial {display: flex;flex-direction: column;align-items: center;background-color: white;padding-right: 0.2em;padding-left: 0.2em;position: relative;}#sk-container-id-1 div.sk-item {position: relative;z-index: 1;}#sk-container-id-1 div.sk-parallel {display: flex;align-items: stretch;justify-content: center;background-color: white;position: relative;}#sk-container-id-1 div.sk-item::before, #sk-container-id-1 div.sk-parallel-item::before {content: \"\";position: absolute;border-left: 1px solid gray;box-sizing: border-box;top: 0;bottom: 0;left: 50%;z-index: -1;}#sk-container-id-1 div.sk-parallel-item {display: flex;flex-direction: column;z-index: 1;position: relative;background-color: white;}#sk-container-id-1 div.sk-parallel-item:first-child::after {align-self: flex-end;width: 50%;}#sk-container-id-1 div.sk-parallel-item:last-child::after {align-self: flex-start;width: 50%;}#sk-container-id-1 div.sk-parallel-item:only-child::after {width: 0;}#sk-container-id-1 div.sk-dashed-wrapped {border: 1px dashed gray;margin: 0 0.4em 0.5em 0.4em;box-sizing: border-box;padding-bottom: 0.4em;background-color: white;}#sk-container-id-1 div.sk-label label {font-family: monospace;font-weight: bold;display: inline-block;line-height: 1.2em;}#sk-container-id-1 div.sk-label-container {text-align: center;}#sk-container-id-1 div.sk-container {/* jupyter's `normalize.less` sets `[hidden] { display: none; }` but bootstrap.min.css set `[hidden] { display: none !important; }` so we also need the `!important` here to be able to override the default hidden behavior on the sphinx rendered scikit-learn.org. See: https://github.com/scikit-learn/scikit-learn/issues/21755 */display: inline-block !important;position: relative;}#sk-container-id-1 div.sk-text-repr-fallback {display: none;}</style><div id=\"sk-container-id-1\" class=\"sk-top-container\"><div class=\"sk-text-repr-fallback\"><pre>MLPClassifier(activation=&#x27;logistic&#x27;, hidden_layer_sizes=(50,), solver=&#x27;sgd&#x27;)</pre><b>In a Jupyter environment, please rerun this cell to show the HTML representation or trust the notebook. <br />On GitHub, the HTML representation is unable to render, please try loading this page with nbviewer.org.</b></div><div class=\"sk-container\" hidden><div class=\"sk-item\"><div class=\"sk-estimator sk-toggleable\"><input class=\"sk-toggleable__control sk-hidden--visually\" id=\"sk-estimator-id-1\" type=\"checkbox\" checked><label for=\"sk-estimator-id-1\" class=\"sk-toggleable__label sk-toggleable__label-arrow\">MLPClassifier</label><div class=\"sk-toggleable__content\"><pre>MLPClassifier(activation=&#x27;logistic&#x27;, hidden_layer_sizes=(50,), solver=&#x27;sgd&#x27;)</pre></div></div></div></div></div>"
      ],
      "text/plain": [
       "MLPClassifier(activation='logistic', hidden_layer_sizes=(50,), solver='sgd')"
      ]
     },
     "execution_count": 6,
     "metadata": {},
     "output_type": "execute_result"
    }
   ],
   "source": [
    "from sklearn.neural_network import MLPClassifier\n",
    "\n",
    "clf = MLPClassifier(hidden_layer_sizes=(50,), activation='logistic', solver='sgd')\n",
    "clf.fit(X_train, y_train)"
   ]
  },
  {
   "cell_type": "code",
   "execution_count": 7,
   "metadata": {},
   "outputs": [
    {
     "data": {
      "text/plain": [
       "3"
      ]
     },
     "execution_count": 7,
     "metadata": {},
     "output_type": "execute_result"
    }
   ],
   "source": [
    "# Número de capas del perceptrón multicapa\n",
    "clf.n_layers_"
   ]
  },
  {
   "cell_type": "code",
   "execution_count": 8,
   "metadata": {},
   "outputs": [
    {
     "data": {
      "text/plain": [
       "10"
      ]
     },
     "execution_count": 8,
     "metadata": {},
     "output_type": "execute_result"
    }
   ],
   "source": [
    "# Número de outputs del perceptrón multicapa\n",
    "clf.n_outputs_"
   ]
  },
  {
   "cell_type": "code",
   "execution_count": 9,
   "metadata": {},
   "outputs": [
    {
     "data": {
      "text/plain": [
       "39250"
      ]
     },
     "execution_count": 9,
     "metadata": {},
     "output_type": "execute_result"
    }
   ],
   "source": [
    "784 * 50+ 50"
   ]
  },
  {
   "cell_type": "code",
   "execution_count": 10,
   "metadata": {},
   "outputs": [
    {
     "data": {
      "text/plain": [
       "(784, 50)"
      ]
     },
     "execution_count": 10,
     "metadata": {},
     "output_type": "execute_result"
    }
   ],
   "source": [
    "# Número de parámetros que forman el modelo\n",
    "clf.coefs_[0].shape"
   ]
  },
  {
   "cell_type": "code",
   "execution_count": 11,
   "metadata": {},
   "outputs": [
    {
     "data": {
      "text/plain": [
       "array([[-0.7989418 , -0.44911228, -0.47177625,  0.75674414,  0.4657083 ,\n",
       "         0.30243432, -0.620267  ,  0.49355552,  0.03293348,  0.31548225],\n",
       "       [-0.85996084,  0.5868862 ,  0.35246421, -0.71538778,  0.47479572,\n",
       "         0.47249644,  0.35616529,  0.16307477,  0.03540313, -0.56716219],\n",
       "       [-0.11428023,  0.30057056, -0.146071  ,  0.3380586 , -0.98204367,\n",
       "        -0.73155413,  0.51075636, -0.58417829,  0.37281806,  0.67990836],\n",
       "       [ 0.24560181,  0.33717145,  0.38511546,  0.55979276, -0.60049743,\n",
       "         0.38389212,  0.10791369, -1.04280613,  0.58075188, -0.68655652],\n",
       "       [ 0.33864682,  0.60291028, -0.13384875, -0.52327585, -0.73213389,\n",
       "         0.32335515,  0.60802629, -0.92237589,  0.80674393, -0.49709595],\n",
       "       [-0.33717928,  0.98047512,  0.81556408, -0.41434626, -0.35811352,\n",
       "         0.51852939, -0.38992203, -0.03170113, -0.86726153,  0.13350433],\n",
       "       [-0.72467654,  0.17240269,  0.88348674,  0.96968104, -0.37016775,\n",
       "        -0.36516842, -0.41568716,  0.17611847,  0.77852439, -0.90544027],\n",
       "       [ 0.73951927, -0.39250554, -0.49361504, -0.66147199, -0.35327919,\n",
       "        -0.29073817,  0.43693962,  0.44657148, -0.493245  ,  0.56051614],\n",
       "       [-0.07775251, -0.66020627,  0.72048782,  0.3431076 , -0.5657517 ,\n",
       "         0.75953001, -0.52783869,  0.50419191, -0.07403005, -0.68690545],\n",
       "       [-0.34015372, -0.33862416,  0.19946396,  0.32449953, -0.87286961,\n",
       "        -0.2438952 ,  0.73412569,  0.6410967 , -0.34098008,  0.19076765],\n",
       "       [ 0.46509712, -0.42921358, -0.80850629, -0.25634496,  0.22030674,\n",
       "         0.57124878,  0.67244186,  0.18621855,  0.28141   , -0.88189009],\n",
       "       [ 0.71991408, -0.25933853,  0.30026003,  0.55571054, -0.29557908,\n",
       "        -0.60486382, -0.48700382,  0.83537944, -0.52763491, -0.13463268],\n",
       "       [ 0.38785153,  0.4397047 , -0.57386475,  0.31716101, -0.26063577,\n",
       "         1.18579098,  0.48567026, -0.39605439, -0.73383951, -0.47125719],\n",
       "       [ 0.22654603, -0.66131064,  0.3492747 , -0.62341118, -0.31383474,\n",
       "         1.03280517,  0.27574827, -0.65816594,  0.2724705 , -0.13277061],\n",
       "       [ 0.52215943, -0.63501521, -0.46762531,  0.50377803, -0.38736507,\n",
       "         0.55877357, -0.51539003,  0.69420181,  0.27257535, -0.37692535],\n",
       "       [ 0.8534828 , -0.33690279,  0.81975434,  0.5165004 , -0.17884992,\n",
       "        -0.45386839, -0.5259427 , -0.16691186, -0.77136127,  0.09022626],\n",
       "       [-0.6559618 ,  0.45217032, -0.28819184, -0.79285149,  0.36145344,\n",
       "         0.15325229, -0.67425844,  0.34152452,  0.75379099,  0.39901733],\n",
       "       [ 0.01344084, -0.86401457,  0.36475588,  0.23897991,  0.50155796,\n",
       "         0.21249275, -1.03770122,  0.0271338 ,  0.27517838,  0.42910369],\n",
       "       [ 0.45723652, -0.37360518,  0.55216096,  0.54497633,  0.30655762,\n",
       "        -0.83222227,  0.13429747, -0.75191524,  0.24159502,  0.60640096],\n",
       "       [-0.84137008, -0.49938191, -0.63144307,  0.32848137,  0.1299659 ,\n",
       "         0.41344348, -0.33727185,  0.84955284,  0.33750133,  0.40305276],\n",
       "       [-0.38433288, -0.49750166, -0.56389915, -0.83684722,  0.34586463,\n",
       "        -0.81654811,  0.45793885,  0.46048188,  1.15984004,  0.17345711],\n",
       "       [-0.71806683, -0.40226282, -0.73171625,  0.2899706 ,  0.0024924 ,\n",
       "         0.87038279,  0.67050965, -0.50898993,  0.52789639, -0.27547301],\n",
       "       [-0.69569277,  0.58389228,  0.90217318,  0.03990976, -0.30552937,\n",
       "        -0.58219097, -0.55108611,  0.67108947,  0.85572013, -1.14900572],\n",
       "       [ 0.08019402, -0.00343631, -0.05949266, -0.53361295,  0.67927673,\n",
       "        -0.95028996,  0.48831145, -0.34454467,  0.90112441, -0.45164325],\n",
       "       [ 0.28362367,  0.65150174, -0.22849062,  0.46371317, -0.79506513,\n",
       "         0.20378722, -0.75641676,  0.66714026,  0.4778296 , -0.73336726],\n",
       "       [-0.23631284, -0.59629502, -0.27551149,  0.12905252,  0.43474595,\n",
       "        -0.53773155, -0.09517305,  0.18886158,  0.55842191,  0.17392729],\n",
       "       [-0.65068619, -0.25316629,  0.15899523,  0.76841874, -0.04672348,\n",
       "        -0.5350724 ,  0.33805819,  0.34901586, -0.5653964 ,  0.40568336],\n",
       "       [ 0.08650946,  0.83907445, -1.11839218,  0.43876405, -0.31576283,\n",
       "         0.60360541, -0.08484412,  0.53380424, -0.38109456, -0.0837788 ],\n",
       "       [-0.57200972, -0.15715801,  0.79319785, -0.38835037,  0.59214622,\n",
       "         0.59274497, -0.08088157, -0.4450266 , -0.66904639,  0.06055167],\n",
       "       [-0.16015956,  0.00590167, -0.47633505,  0.56378566,  0.50520838,\n",
       "        -0.30480265, -0.4809004 ,  0.66934829, -0.77392149,  0.52611964],\n",
       "       [-0.35020622,  0.48746413, -0.68518796,  0.86124943, -0.2972229 ,\n",
       "         0.82795018, -0.13405519, -0.94486258, -0.40713503,  0.4014029 ],\n",
       "       [-0.16568041,  0.75882451, -0.27935538, -0.09505825,  1.01594815,\n",
       "         0.08197524,  0.27770145,  0.17750577, -0.90802226, -0.8337243 ],\n",
       "       [ 0.72609616, -0.02969784,  0.76966325, -0.54109495, -0.00120052,\n",
       "        -0.5856661 ,  0.01168748,  0.87816264, -0.73704109, -0.5138053 ],\n",
       "       [ 0.64443721, -0.44591707,  0.91611703, -0.21828127, -0.12169165,\n",
       "        -0.16526848, -0.26919923,  0.41349251, -0.70442973, -0.38707316],\n",
       "       [-0.9571128 ,  0.53806928,  0.54283042, -0.21422373,  0.37821985,\n",
       "         0.72825536,  0.38838292, -0.12872281, -0.5693219 , -0.42050452],\n",
       "       [-0.56208313,  0.438936  , -0.08710643,  0.25024242,  0.86367369,\n",
       "        -0.09876988,  0.41314478, -0.11983285, -0.59631916, -0.99165796],\n",
       "       [ 0.92275401, -0.47347098, -0.80450506, -0.64113911,  0.75251557,\n",
       "         0.16801208, -0.70914335, -0.02200814,  0.32437602,  0.40351846],\n",
       "       [-0.12798723, -0.10903849, -0.1226882 , -0.61851284,  0.48562207,\n",
       "         0.54691847, -0.58333477, -0.28508779, -0.34726212,  1.05947362],\n",
       "       [-0.56683502, -0.54015725,  0.46644803,  0.34959248,  0.26291068,\n",
       "         0.31201489, -0.65375547, -0.74494192,  0.47091907,  0.52931491],\n",
       "       [-0.51589728,  0.53075021,  0.8884325 , -0.29882405, -0.71859711,\n",
       "        -0.45097967,  0.69811981,  0.41253102, -0.35163518, -0.59796066],\n",
       "       [ 0.29720889,  0.46281492,  0.17527678,  0.34724026, -0.68021343,\n",
       "        -0.36919341, -0.84426584,  0.08290293, -0.38378916,  0.96971751],\n",
       "       [ 0.49566527, -0.59811625,  0.90748486, -0.24601602,  0.12830112,\n",
       "        -0.48861323,  0.8073018 , -0.42185244, -0.78379146,  0.02311412],\n",
       "       [-0.2633569 , -0.41124762, -0.16726623, -0.12043849,  0.72723982,\n",
       "        -0.13733719,  0.49748768, -0.29376536, -0.77860222,  0.49208256],\n",
       "       [ 0.44258992, -0.40173337, -0.4165326 , -0.97014287, -0.42137509,\n",
       "         0.92597626,  0.75159133, -0.22422067, -0.49570839,  0.0187655 ],\n",
       "       [-0.21963766,  0.23183601,  0.19080093, -0.24132252, -0.73172179,\n",
       "        -0.26744998, -0.5095256 ,  1.02840716, -0.58060501,  0.8417297 ],\n",
       "       [ 0.594507  , -0.5386641 ,  0.16985662, -0.59216608,  0.44887467,\n",
       "         0.64871687,  0.3705144 , -0.70601237,  0.32838355, -0.57819567],\n",
       "       [-0.22626951,  1.0529197 ,  0.18611379, -0.51412833,  0.52657975,\n",
       "        -0.27172137, -0.57897167, -0.25168426, -0.81331889,  0.15010644],\n",
       "       [ 0.34517172,  0.3246066 , -0.45867474, -0.6844337 , -0.71029851,\n",
       "         0.32821939, -0.21384548,  0.0985614 ,  0.10075698,  0.87479983],\n",
       "       [ 0.20076587,  0.37888445, -0.35771254,  1.07426856, -0.43818476,\n",
       "         1.09065847, -0.52075677, -0.54781992, -0.9792168 , -0.06317375],\n",
       "       [-0.55897794,  0.32952689,  0.35346173,  0.77409447, -0.75802673,\n",
       "        -0.70114431, -0.34152006, -0.68610498,  0.60640922,  0.60967165]])"
      ]
     },
     "execution_count": 11,
     "metadata": {},
     "output_type": "execute_result"
    }
   ],
   "source": [
    "# Dimensiones de la primera capa (hidden layer)\n",
    "clf.coefs_[1]"
   ]
  },
  {
   "cell_type": "code",
   "execution_count": 12,
   "metadata": {},
   "outputs": [
    {
     "data": {
      "text/plain": [
       "(50, 10)"
      ]
     },
     "execution_count": 12,
     "metadata": {},
     "output_type": "execute_result"
    }
   ],
   "source": [
    "# Dimensiones de la segunda capa (output layer)\n",
    "clf.coefs_[1].shape"
   ]
  },
  {
   "cell_type": "code",
   "execution_count": 13,
   "metadata": {},
   "outputs": [
    {
     "data": {
      "text/plain": [
       "(50,)"
      ]
     },
     "execution_count": 13,
     "metadata": {},
     "output_type": "execute_result"
    }
   ],
   "source": [
    "# Parametros bias/intercept que forman parte de cada capa de la red neuronal\n",
    "clf.intercepts_[0].shape"
   ]
  },
  {
   "cell_type": "markdown",
   "metadata": {},
   "source": [
    "## 5. Predicción con el conjunto de pruebas"
   ]
  },
  {
   "cell_type": "code",
   "execution_count": 14,
   "metadata": {},
   "outputs": [],
   "source": [
    "# Realizamos la predicción con el conjunto de datos de prueba\n",
    "y_pred = clf.predict(X_test)"
   ]
  },
  {
   "cell_type": "code",
   "execution_count": 15,
   "metadata": {},
   "outputs": [
    {
     "data": {
      "text/plain": [
       "0.9497117390465432"
      ]
     },
     "execution_count": 15,
     "metadata": {},
     "output_type": "execute_result"
    }
   ],
   "source": [
    "# Mostramos el f1_score resultante de la clasificación\n",
    "from sklearn.metrics import f1_score\n",
    "\n",
    "f1_score(y_test, y_pred, average=\"weighted\")"
   ]
  },
  {
   "cell_type": "markdown",
   "metadata": {},
   "source": [
    "### Volver a repetir el ejercicio pero aumentando el numero de neuronas en la hidden layer"
   ]
  },
  {
   "cell_type": "markdown",
   "metadata": {},
   "source": [
    "## 6. Mostrando las imagenes mal clasificadas"
   ]
  },
  {
   "cell_type": "code",
   "execution_count": 16,
   "metadata": {},
   "outputs": [
    {
     "name": "stdout",
     "output_type": "stream",
     "text": [
      "Indices de imagenes con error: \n",
      "[155, 187, 203, 210, 214, 237, 254, 261]\n"
     ]
    }
   ],
   "source": [
    "import numpy as np\n",
    "import matplotlib.pyplot as plt\n",
    "\n",
    "index = 0\n",
    "index_errors = []\n",
    "\n",
    "for label, predict in zip(y_test, y_pred):\n",
    "    if label != predict:\n",
    "        index_errors.append(index)\n",
    "    index += 1\n",
    "\n",
    "print(\"Indices de imagenes con error: \")\n",
    "print(index_errors[8:16])"
   ]
  },
  {
   "cell_type": "code",
   "execution_count": 17,
   "metadata": {},
   "outputs": [
    {
     "data": {
      "image/png": "[encoded data removed]",
      "text/plain": [
       "<Figure size 1440x288 with 8 Axes>"
      ]
     },
     "metadata": {
      "needs_background": "light"
     },
     "output_type": "display_data"
    }
   ],
   "source": [
    "import numpy as np\n",
    "import matplotlib.pyplot as plt\n",
    "\n",
    "plt.figure(figsize=(20, 4))\n",
    "\n",
    "for i, img_index in zip(range(1, 9), index_errors[8:16]):\n",
    "    plt.subplot(1, 8, i)\n",
    "    plt.imshow(np.reshape(X_test.iloc[img_index].to_numpy(), (28,28)), cmap=plt.cm.gray)\n",
    "    plt.title('Orig:' + str(y_test.iloc[img_index]) + ' Pred:' + str(y_pred[img_index]))\n",
    "plt.show()"
   ]
  },
  {
   "cell_type": "code",
   "execution_count": null,
   "metadata": {},
   "outputs": [],
   "source": []
  }
 ],
 "metadata": {
  "kernelspec": {
   "display_name": "Python 3",
   "language": "python",
   "name": "python3"
  },
  "language_info": {
   "codemirror_mode": {
    "name": "ipython",
    "version": 3
   },
   "file_extension": ".py",
   "mimetype": "text/x-python",
   "name": "python",
   "nbconvert_exporter": "python",
   "pygments_lexer": "ipython3",
   "version": "3.8.5"
  }
 },
 "nbformat": 4,
 "nbformat_minor": 4
}
